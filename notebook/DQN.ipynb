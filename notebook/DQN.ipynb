{
 "cells": [
  {
   "cell_type": "code",
   "execution_count": 2,
   "id": "surprising-liberal",
   "metadata": {},
   "outputs": [],
   "source": [
    "import gym\n",
    "import torch\n",
    "from torch import nn\n",
    "import numpy as np\n",
    "from collections import deque, namedtuple\n",
    "import random\n",
    "import torch.nn.functional as F\n",
    "import torch.optim as optim\n",
    "from tqdm import tqdm\n",
    "import time"
   ]
  },
  {
   "cell_type": "code",
   "execution_count": 4,
   "id": "faced-thomas",
   "metadata": {},
   "outputs": [],
   "source": [
    "class DQN(nn.Module):\n",
    "    def __init__(self, state_dim, action_dim):\n",
    "        super(DQN, self).__init__()\n",
    "        self.net = nn.Sequential(\n",
    "                    nn.Linear(state_dim, 32),\n",
    "                    nn.ReLU(),\n",
    "                    nn.Linear(32,8),\n",
    "                    nn.ReLU(),\n",
    "                    nn.Linear(8,action_dim)\n",
    "                    )\n",
    "    def forward(self, x):\n",
    "        return self.net(x)"
   ]
  },
  {
   "cell_type": "code",
   "execution_count": 5,
   "id": "veterinary-observation",
   "metadata": {},
   "outputs": [],
   "source": [
    "Transition = namedtuple('Transition',\n",
    "                        ('state', 'action', 'reward', 'next_state'))\n",
    "\n",
    "class ReplayMemory:\n",
    "    def __init__(self, capacity):\n",
    "        self.capacity = capacity \n",
    "        self.memory = deque(maxlen = self.capacity)\n",
    "    \n",
    "    def update(self, *args):\n",
    "        self.memory.append(Transition(*args))\n",
    "    \n",
    "    def sample(self, batch_size):\n",
    "        return random.sample(self.memory, batch_size)\n",
    "    \n"
   ]
  },
  {
   "cell_type": "code",
   "execution_count": 12,
   "id": "subjective-thanks",
   "metadata": {},
   "outputs": [],
   "source": [
    "class DQNAgent:\n",
    "    def __init__(self, env, mem_capacity, n, eps_max = 1.0, eps_min = 0.1):\n",
    "        self.env = env\n",
    "        self.n_episodes = n\n",
    "        self.state_dim = env.observation_space.shape[0]\n",
    "        self.action_dim = 7\n",
    "        self.actions = [-5,-3,-1,0.,1,3,5]\n",
    "        self.model = DQN(self.state_dim, self.action_dim)\n",
    "        self.target_model = DQN(self.state_dim, self.action_dim)\n",
    "        self.memory = ReplayMemory(mem_capacity)\n",
    "        self.rewards = []\n",
    "        self.losses = []\n",
    "        self.eps = lambda x: max(0.1, eps_max - x*(eps_max-eps_min)/n)\n",
    "        self.optimizer = torch.optim.Adam(self.model.parameters())\n",
    "             \n",
    "    def train(self):\n",
    "        \n",
    "        self.fill_memory()\n",
    "        step = 0\n",
    "        \n",
    "        pbar = tqdm(total=self.n_episodes, position=0, leave=True)\n",
    "        for episode in range(self.n_episodes):\n",
    "            state = self.env.reset()\n",
    "            is_done = False\n",
    "            total_rewards = 0\n",
    "              \n",
    "            while not is_done:\n",
    "                if random.random() < 0.1:#self.eps(episode):\n",
    "                    action = random.sample(range(len(self.actions)), 1)[0]  # choose randomly\n",
    "                else:\n",
    "                    with torch.no_grad():\n",
    "                        action = self.model(torch.from_numpy(state).float()).max(0)[1].item()\n",
    "                \n",
    "                \n",
    "                next_state, reward, is_done, _ = self.env.step(np.array([self.actions[action]]))\n",
    "                \n",
    "                total_rewards += reward\n",
    "                        \n",
    "                self.memory.update(torch.from_numpy(state), \n",
    "                               torch.tensor([action]),  \n",
    "                               torch.tensor([reward]), \n",
    "                               torch.from_numpy(next_state))\n",
    "                \n",
    "                batch = self.memory.sample(32)\n",
    "                loss = self.update_model(batch)\n",
    "                \n",
    "                if step % 20  == 0:\n",
    "                    self.update_target_model()                   \n",
    "                             \n",
    "                self.losses.append(loss)    \n",
    "                step += 1\n",
    "            self.rewards.append(total_rewards)\n",
    "            pbar.update()\n",
    "                \n",
    "        \n",
    "    def update_model(self, n_batch):\n",
    "        gamma = 0.99\n",
    "        \n",
    "        batch = Transition(*zip(*n_batch))\n",
    "               \n",
    "        rewards = torch.cat(batch.reward)\n",
    "        \n",
    "        non_terminal_indices = torch.tensor(tuple(map(lambda s: s is not None, batch.next_state)))\n",
    "        \n",
    "        next_states = torch.stack([ns for ns in batch.next_state if ns is not None]).float()\n",
    "        \n",
    "        max_q = self.target_model(next_states).max(1)[0].detach().double()\n",
    "        \n",
    "        \n",
    "        additional_qs = torch.zeros(32).double()\n",
    "        \n",
    "        additional_qs[non_terminal_indices] = max_q\n",
    "        \n",
    "        y = rewards.double() + additional_qs * gamma\n",
    "        y = y.unsqueeze(1)\n",
    "        # get Q for each action we took in states\n",
    "        \n",
    "        actions = torch.stack(batch.action)\n",
    "        q = self.model(torch.stack(batch.state).float()).gather(1, actions)\n",
    "        # Update the model\n",
    "        loss = F.smooth_l1_loss(q, y.float())\n",
    "        self.optimizer.zero_grad()\n",
    "        loss.backward()\n",
    "        #for param in self.model.parameters():\n",
    "        #    param.grad.data.clamp_(-1, 1)\n",
    "        self.optimizer.step()\n",
    "        return loss.item()\n",
    "        \n",
    "        \n",
    "    def update_target_model(self):\n",
    "        self.target_model.load_state_dict(self.model.state_dict())\n",
    "                \n",
    "    def fill_memory(self, size = 32):\n",
    "        state = self.env.reset()\n",
    "        for _ in range(size):\n",
    "            action = random.sample(range(len(self.actions)), 1)\n",
    "            next_state, reward, is_done, _ = self.env.step(np.array([self.actions[action[0]]]))\n",
    "            self.memory.update(torch.from_numpy(state), \n",
    "                               torch.tensor(action), \n",
    "                               torch.tensor([reward]), \n",
    "                               torch.from_numpy(next_state))\n",
    "            state = next_state\n",
    "        \n",
    "    def test(self):\n",
    "        state = self.env.reset()\n",
    "        is_done = False\n",
    "        while not is_done:\n",
    "            action = self.model(torch.from_numpy(state).float()).max(0)[1].item()\n",
    "            next_state, reward, is_done, _ = self.env.step(np.array([self.actions[action]]))\n",
    "            state = next_state\n",
    "            env.render()\n",
    "            time.sleep(0.1)"
   ]
  },
  {
   "cell_type": "code",
   "execution_count": 13,
   "id": "illegal-anime",
   "metadata": {},
   "outputs": [
    {
     "name": "stderr",
     "output_type": "stream",
     "text": [
      "100%|██████████| 2000/2000 [13:18<00:00,  2.64it/s]"
     ]
    }
   ],
   "source": [
    "MEM_CAPACITY = 10_000\n",
    "MAX_EPISODES = 2000\n",
    "\n",
    "env = gym.make(\"Pendulum-v0\")\n",
    "\n",
    "agent = DQNAgent(env, MEM_CAPACITY, MAX_EPISODES)\n",
    "agent.train()"
   ]
  },
  {
   "cell_type": "code",
   "execution_count": 421,
   "id": "hearing-observation",
   "metadata": {},
   "outputs": [
    {
     "data": {
      "text/plain": [
       "tensor(0)"
      ]
     },
     "execution_count": 421,
     "metadata": {},
     "output_type": "execute_result"
    }
   ],
   "source": [
    "state = agent.env.reset()\n",
    "agent.model(torch.from_numpy(state).float()).max(0)[1]"
   ]
  },
  {
   "cell_type": "code",
   "execution_count": 15,
   "id": "freelance-enemy",
   "metadata": {},
   "outputs": [
    {
     "data": {
      "text/plain": [
       "[<matplotlib.lines.Line2D at 0x7f2314bfc940>]"
      ]
     },
     "execution_count": 15,
     "metadata": {},
     "output_type": "execute_result"
    },
    {
     "data": {
      "image/png": "[encoded data removed]",
      "text/plain": [
       "<Figure size 432x288 with 1 Axes>"
      ]
     },
     "metadata": {
      "needs_background": "light"
     },
     "output_type": "display_data"
    }
   ],
   "source": [
    "from matplotlib import pyplot as plt\n",
    "plt.plot(agent.rewards)\n",
    "#plt.plot(agent.losses)po "
   ]
  },
  {
   "cell_type": "code",
   "execution_count": 17,
   "id": "marked-chapter",
   "metadata": {},
   "outputs": [],
   "source": [
    "agent.test()\n",
    "agent.env.close()"
   ]
  },
  {
   "cell_type": "code",
   "execution_count": 346,
   "id": "continental-private",
   "metadata": {},
   "outputs": [],
   "source": [
    "batch = agent.memory.sample(32)\n",
    "n_batch = Transition(*zip(*batch))"
   ]
  },
  {
   "cell_type": "code",
   "execution_count": 503,
   "id": "material-variable",
   "metadata": {},
   "outputs": [
    {
     "data": {
      "text/plain": [
       "Box(-8.0, 8.0, (3,), float32)"
      ]
     },
     "execution_count": 503,
     "metadata": {},
     "output_type": "execute_result"
    }
   ],
   "source": [
    "agent.env.observation_space"
   ]
  },
  {
   "cell_type": "code",
   "execution_count": 31,
   "id": "continent-executive",
   "metadata": {},
   "outputs": [
    {
     "data": {
      "text/plain": [
       "(array([0.81732838, 0.57617213, 1.0906185 ]), -0.36100913083374336, False, {})"
      ]
     },
     "execution_count": 31,
     "metadata": {},
     "output_type": "execute_result"
    }
   ],
   "source": [
    "env = gym.make(\"Pendulum-v0\")\n",
    "env.reset()\n",
    "env.step([0])"
   ]
  },
  {
   "cell_type": "code",
   "execution_count": 169,
   "id": "opened-cancellation",
   "metadata": {},
   "outputs": [
    {
     "ename": "AttributeError",
     "evalue": "'list' object has no attribute 'state'",
     "output_type": "error",
     "traceback": [
      "\u001b[0;31m---------------------------------------------------------------------------\u001b[0m",
      "\u001b[0;31mAttributeError\u001b[0m                            Traceback (most recent call last)",
      "\u001b[0;32m<ipython-input-169-cd30ae9165ce>\u001b[0m in \u001b[0;36m<module>\u001b[0;34m\u001b[0m\n\u001b[0;32m----> 1\u001b[0;31m \u001b[0magent\u001b[0m\u001b[0;34m.\u001b[0m\u001b[0mmodel\u001b[0m\u001b[0;34m(\u001b[0m\u001b[0mtorch\u001b[0m\u001b[0;34m.\u001b[0m\u001b[0mstack\u001b[0m\u001b[0;34m(\u001b[0m\u001b[0mbatch\u001b[0m\u001b[0;34m.\u001b[0m\u001b[0mstate\u001b[0m\u001b[0;34m)\u001b[0m\u001b[0;34m.\u001b[0m\u001b[0mfloat\u001b[0m\u001b[0;34m(\u001b[0m\u001b[0;34m)\u001b[0m\u001b[0;34m)\u001b[0m\u001b[0;34m\u001b[0m\u001b[0;34m\u001b[0m\u001b[0m\n\u001b[0m",
      "\u001b[0;31mAttributeError\u001b[0m: 'list' object has no attribute 'state'"
     ]
    }
   ],
   "source": [
    "\n",
    "agent.model(torch.stack(batch.state).float())"
   ]
  },
  {
   "cell_type": "code",
   "execution_count": 186,
   "id": "important-truth",
   "metadata": {},
   "outputs": [
    {
     "data": {
      "text/plain": [
       "tensor([[2],\n",
       "        [5]])"
      ]
     },
     "execution_count": 186,
     "metadata": {},
     "output_type": "execute_result"
    }
   ],
   "source": [
    "t = torch.tensor([[1,2,3],[4,5,6]])\n",
    "torch.gather(t, 1, torch.tensor([[1],[1]]))"
   ]
  },
  {
   "cell_type": "code",
   "execution_count": 175,
   "id": "acoustic-basket",
   "metadata": {},
   "outputs": [
    {
     "data": {
      "text/plain": [
       "tensor([[1, 2],\n",
       "        [3, 4]])"
      ]
     },
     "execution_count": 175,
     "metadata": {},
     "output_type": "execute_result"
    }
   ],
   "source": [
    "t"
   ]
  }
 ],
 "metadata": {
  "kernelspec": {
   "display_name": "Python 3",
   "language": "python",
   "name": "python3"
  },
  "language_info": {
   "codemirror_mode": {
    "name": "ipython",
    "version": 3
   },
   "file_extension": ".py",
   "mimetype": "text/x-python",
   "name": "python",
   "nbconvert_exporter": "python",
   "pygments_lexer": "ipython3",
   "version": "3.6.9"
  }
 },
 "nbformat": 4,
 "nbformat_minor": 5
}
