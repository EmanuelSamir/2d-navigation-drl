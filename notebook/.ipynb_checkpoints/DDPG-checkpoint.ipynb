{
 "cells": [
  {
   "cell_type": "code",
   "execution_count": 451,
   "id": "surprising-liberal",
   "metadata": {},
   "outputs": [],
   "source": [
    "import gym\n",
    "import torch\n",
    "from torch import nn\n",
    "import numpy as np\n",
    "from collections import deque, namedtuple\n",
    "import random\n",
    "import torch.nn.functional as F\n",
    "import torch.optim as optim\n",
    "from tqdm import tqdm\n",
    "import time"
   ]
  },
  {
   "cell_type": "code",
   "execution_count": 339,
   "id": "faced-thomas",
   "metadata": {},
   "outputs": [],
   "source": [
    "class DQN(nn.Module):\n",
    "    def __init__(self, state_dim, action_dim):\n",
    "        super(DQN, self).__init__()\n",
    "        self.net = nn.Sequential(\n",
    "                    nn.Linear(state_dim, 32),\n",
    "                    nn.ReLU(),\n",
    "                    nn.Linear(32,16),\n",
    "                    nn.ReLU(),\n",
    "                    nn.Linear(16,action_dim)\n",
    "                    )\n",
    "    def forward(self, x):\n",
    "        return self.net(x)"
   ]
  },
  {
   "cell_type": "code",
   "execution_count": 340,
   "id": "veterinary-observation",
   "metadata": {},
   "outputs": [],
   "source": [
    "Transition = namedtuple('Transition',\n",
    "                        ('state', 'action', 'reward', 'next_state'))\n",
    "\n",
    "class ReplayMemory:\n",
    "    def __init__(self, capacity):\n",
    "        self.capacity = capacity \n",
    "        self.memory = deque(maxlen = self.capacity)\n",
    "    \n",
    "    def update(self, *args):\n",
    "        self.memory.append(Transition(*args))\n",
    "    \n",
    "    def sample(self, batch_size):\n",
    "        return random.sample(self.memory, batch_size)\n",
    "    \n"
   ]
  },
  {
   "cell_type": "code",
   "execution_count": 504,
   "id": "subjective-thanks",
   "metadata": {},
   "outputs": [],
   "source": [
    "class DQNAgent:\n",
    "    def __init__(self, env, mem_capacity, n, eps_max = 1.0, eps_min = 0.1):\n",
    "        self.env = env\n",
    "        self.n_episodes = n\n",
    "        self.state_dim = env.observation_space.shape[0]\n",
    "        self.action_dim = 5\n",
    "        self.actions = [-3.2,-0.9,0.,0.9,3.2]\n",
    "        self.model = DQN(self.state_dim, self.action_dim)\n",
    "        self.target_model = DQN(self.state_dim, self.action_dim)\n",
    "        self.memory = ReplayMemory(mem_capacity)\n",
    "        self.rewards = []\n",
    "        self.losses = []\n",
    "        self.eps = lambda x: max(0.1, eps_max - x*(eps_max-eps_min)/n)\n",
    "        self.optimizer = torch.optim.Adam(self.model.parameters())\n",
    "             \n",
    "    def train(self):\n",
    "        \n",
    "        self.fill_memory()\n",
    "        step = 0\n",
    "        \n",
    "        pbar = tqdm(total=self.n_episodes, position=0, leave=True)\n",
    "        for episode in range(self.n_episodes):\n",
    "            state = self.env.reset()\n",
    "            is_done = False\n",
    "            total_rewards = 0\n",
    "              \n",
    "            while not is_done:\n",
    "                if random.random() < 0.1:#self.eps(episode):\n",
    "                    action = random.sample(range(len(self.actions)), 1)[0]  # choose randomly\n",
    "                else:\n",
    "                    with torch.no_grad():\n",
    "                        action = self.model(torch.from_numpy(state).float()).max(0)[1].item()\n",
    "                \n",
    "                \n",
    "                next_state, reward, is_done, _ = self.env.step(np.array([self.actions[action]]))\n",
    "                \n",
    "                total_rewards += reward\n",
    "                        \n",
    "                self.memory.update(torch.from_numpy(state), \n",
    "                               torch.tensor([action]),  \n",
    "                               torch.tensor([reward]), \n",
    "                               torch.from_numpy(next_state))\n",
    "                \n",
    "                batch = self.memory.sample(32)\n",
    "                loss = self.update_model(batch)\n",
    "                \n",
    "                if step % 20  == 0:\n",
    "                    self.update_target_model()                   \n",
    "                             \n",
    "                self.losses.append(loss)    \n",
    "                step += 1\n",
    "            self.rewards.append(total_rewards)\n",
    "            pbar.update()\n",
    "                \n",
    "        \n",
    "    def update_model(self, n_batch):\n",
    "        gamma = 0.99\n",
    "        \n",
    "        batch = Transition(*zip(*n_batch))\n",
    "               \n",
    "        rewards = torch.cat(batch.reward)\n",
    "        \n",
    "        non_terminal_indices = torch.tensor(tuple(map(lambda s: s is not None, batch.next_state)))\n",
    "        \n",
    "        next_states = torch.stack([ns for ns in batch.next_state if ns is not None]).float()\n",
    "        \n",
    "        max_q = self.target_model(next_states).max(1)[0].detach().double()\n",
    "        \n",
    "        \n",
    "        additional_qs = torch.zeros(32).double()\n",
    "        \n",
    "        additional_qs[non_terminal_indices] = max_q\n",
    "        \n",
    "        y = rewards.double() + additional_qs * gamma\n",
    "        y = y.unsqueeze(1)\n",
    "        # get Q for each action we took in states\n",
    "        \n",
    "        actions = torch.stack(batch.action)\n",
    "        q = self.model(torch.stack(batch.state).float()).gather(1, actions)\n",
    "        # Update the model\n",
    "        loss = F.smooth_l1_loss(q, y.float())\n",
    "        self.optimizer.zero_grad()\n",
    "        loss.backward()\n",
    "        for param in self.model.parameters():\n",
    "            param.grad.data.clamp_(-1, 1)\n",
    "        self.optimizer.step()\n",
    "        return loss.item()\n",
    "        \n",
    "        \n",
    "    def update_target_model(self):\n",
    "        self.target_model.load_state_dict(self.model.state_dict())\n",
    "                \n",
    "    def fill_memory(self, size = 32):\n",
    "        state = self.env.reset()\n",
    "        for _ in range(size):\n",
    "            action = random.sample(range(len(self.actions)), 1)\n",
    "            next_state, reward, is_done, _ = self.env.step(np.array([self.actions[action[0]]]))\n",
    "            self.memory.update(torch.from_numpy(state), \n",
    "                               torch.tensor(action), \n",
    "                               torch.tensor([reward]), \n",
    "                               torch.from_numpy(next_state))\n",
    "            state = next_state\n",
    "        \n",
    "    def test(self):\n",
    "        state = self.env.reset()\n",
    "        is_done = False\n",
    "        while not is_done:\n",
    "            action = self.model(torch.from_numpy(state).float()).max(0)[1].item()\n",
    "            next_state, reward, is_done, _ = self.env.step(np.array([self.actions[action]]))\n",
    "            state = next_state\n",
    "            env.render()\n",
    "            time.sleep(0.1)"
   ]
  },
  {
   "cell_type": "code",
   "execution_count": 505,
   "id": "illegal-anime",
   "metadata": {},
   "outputs": [
    {
     "name": "stderr",
     "output_type": "stream",
     "text": [
      "100%|██████████| 1500/1500 [20:51<00:00,  1.20it/s]\n",
      "100%|██████████| 1500/1500 [12:15<00:00,  2.19it/s]"
     ]
    }
   ],
   "source": [
    "MEM_CAPACITY = 10_000\n",
    "MAX_EPISODES = 1500\n",
    "\n",
    "env = gym.make(\"Pendulum-v0\")\n",
    "\n",
    "agent = DQNAgent(env, MEM_CAPACITY, MAX_EPISODES)\n",
    "agent.train()"
   ]
  },
  {
   "cell_type": "code",
   "execution_count": 421,
   "id": "hearing-observation",
   "metadata": {},
   "outputs": [
    {
     "data": {
      "text/plain": [
       "tensor(0)"
      ]
     },
     "execution_count": 421,
     "metadata": {},
     "output_type": "execute_result"
    }
   ],
   "source": [
    "state = agent.env.reset()\n",
    "agent.model(torch.from_numpy(state).float()).max(0)[1]"
   ]
  },
  {
   "cell_type": "code",
   "execution_count": 506,
   "id": "freelance-enemy",
   "metadata": {},
   "outputs": [
    {
     "data": {
      "text/plain": [
       "[<matplotlib.lines.Line2D at 0x7fe5a0f200b8>]"
      ]
     },
     "execution_count": 506,
     "metadata": {},
     "output_type": "execute_result"
    },
    {
     "data": {
      "image/png": "[encoded data removed]",
      "text/plain": [
       "<Figure size 432x288 with 1 Axes>"
      ]
     },
     "metadata": {
      "needs_background": "light"
     },
     "output_type": "display_data"
    }
   ],
   "source": [
    "from matplotlib import pyplot as plt\n",
    "plt.plot(agent.rewards)\n",
    "#plt.plot(agent.losses)po "
   ]
  },
  {
   "cell_type": "code",
   "execution_count": 510,
   "id": "marked-chapter",
   "metadata": {},
   "outputs": [],
   "source": [
    "agent.test()\n",
    "agent.env.close()"
   ]
  },
  {
   "cell_type": "code",
   "execution_count": 346,
   "id": "continental-private",
   "metadata": {},
   "outputs": [],
   "source": [
    "batch = agent.memory.sample(32)\n",
    "n_batch = Transition(*zip(*batch))"
   ]
  },
  {
   "cell_type": "code",
   "execution_count": 503,
   "id": "material-variable",
   "metadata": {},
   "outputs": [
    {
     "data": {
      "text/plain": [
       "Box(-8.0, 8.0, (3,), float32)"
      ]
     },
     "execution_count": 503,
     "metadata": {},
     "output_type": "execute_result"
    }
   ],
   "source": [
    "agent.env.observation_space"
   ]
  },
  {
   "cell_type": "code",
   "execution_count": 142,
   "id": "continent-executive",
   "metadata": {},
   "outputs": [
    {
     "data": {
      "text/plain": [
       "[tensor([ 0.9928,  0.1201, -1.5777], dtype=torch.float64),\n",
       " tensor([-0.8099, -0.5866, -6.0983], dtype=torch.float64),\n",
       " tensor([ 0.6755,  0.7373, -3.7109], dtype=torch.float64),\n",
       " tensor([ 0.1149,  0.9934, -5.1681], dtype=torch.float64),\n",
       " tensor([ 0.9967, -0.0812, -1.4364], dtype=torch.float64),\n",
       " tensor([ 0.8637,  0.5040, -2.9226], dtype=torch.float64),\n",
       " tensor([ 0.4595, -0.8882, -2.3637], dtype=torch.float64),\n",
       " tensor([-0.5964, -0.8027, -5.7930], dtype=torch.float64),\n",
       " tensor([ 0.9587,  0.2845, -2.1266], dtype=torch.float64),\n",
       " tensor([ 0.5610, -0.8278, -1.9143], dtype=torch.float64),\n",
       " tensor([ 0.9890, -0.1477, -1.3394], dtype=torch.float64),\n",
       " tensor([-0.0867, -0.9962, -4.6756], dtype=torch.float64),\n",
       " tensor([-0.4287,  0.9034, -6.4402], dtype=torch.float64),\n",
       " tensor([ 0.7811,  0.6244, -3.0944], dtype=torch.float64),\n",
       " tensor([-0.3423, -0.9396, -5.2512], dtype=torch.float64),\n",
       " tensor([ 0.3251, -0.9457, -2.9262], dtype=torch.float64),\n",
       " tensor([ 0.9983,  0.0579, -1.2500], dtype=torch.float64),\n",
       " tensor([ 0.6375, -0.7704, -1.6214], dtype=torch.float64),\n",
       " tensor([ 0.9231,  0.3846, -2.6696], dtype=torch.float64),\n",
       " tensor([ 0.5279,  0.8493, -4.1379], dtype=torch.float64),\n",
       " tensor([-0.6926,  0.7213, -7.1428], dtype=torch.float64),\n",
       " tensor([ 0.1939, -0.9810,  0.4301], dtype=torch.float64),\n",
       " tensor([-0.1428,  0.9898, -5.9956], dtype=torch.float64),\n",
       " tensor([ 0.6978, -0.7163, -0.8470], dtype=torch.float64),\n",
       " tensor([-0.9969,  0.0784, -7.2762], dtype=torch.float64),\n",
       " tensor([ 0.7275, -0.6861, -0.3860], dtype=torch.float64),\n",
       " tensor([ 0.3422,  0.9396, -4.6823], dtype=torch.float64),\n",
       " tensor([ 0.9743, -0.2254, -1.5808], dtype=torch.float64),\n",
       " tensor([-0.9011,  0.4337, -7.4015], dtype=torch.float64),\n",
       " tensor([ 0.9802,  0.1980, -1.7837], dtype=torch.float64),\n",
       " tensor([ 0.1465, -0.9892, -3.6819], dtype=torch.float64),\n",
       " tensor([-0.9596, -0.2814, -6.8318], dtype=torch.float64)]"
      ]
     },
     "execution_count": 142,
     "metadata": {},
     "output_type": "execute_result"
    }
   ],
   "source": [
    "[ns for ns in n_batch.next_state if ns is not None]"
   ]
  },
  {
   "cell_type": "code",
   "execution_count": 169,
   "id": "opened-cancellation",
   "metadata": {},
   "outputs": [
    {
     "ename": "AttributeError",
     "evalue": "'list' object has no attribute 'state'",
     "output_type": "error",
     "traceback": [
      "\u001b[0;31m---------------------------------------------------------------------------\u001b[0m",
      "\u001b[0;31mAttributeError\u001b[0m                            Traceback (most recent call last)",
      "\u001b[0;32m<ipython-input-169-cd30ae9165ce>\u001b[0m in \u001b[0;36m<module>\u001b[0;34m\u001b[0m\n\u001b[0;32m----> 1\u001b[0;31m \u001b[0magent\u001b[0m\u001b[0;34m.\u001b[0m\u001b[0mmodel\u001b[0m\u001b[0;34m(\u001b[0m\u001b[0mtorch\u001b[0m\u001b[0;34m.\u001b[0m\u001b[0mstack\u001b[0m\u001b[0;34m(\u001b[0m\u001b[0mbatch\u001b[0m\u001b[0;34m.\u001b[0m\u001b[0mstate\u001b[0m\u001b[0;34m)\u001b[0m\u001b[0;34m.\u001b[0m\u001b[0mfloat\u001b[0m\u001b[0;34m(\u001b[0m\u001b[0;34m)\u001b[0m\u001b[0;34m)\u001b[0m\u001b[0;34m\u001b[0m\u001b[0;34m\u001b[0m\u001b[0m\n\u001b[0m",
      "\u001b[0;31mAttributeError\u001b[0m: 'list' object has no attribute 'state'"
     ]
    }
   ],
   "source": [
    "\n",
    "agent.model(torch.stack(batch.state).float())"
   ]
  },
  {
   "cell_type": "code",
   "execution_count": 186,
   "id": "important-truth",
   "metadata": {},
   "outputs": [
    {
     "data": {
      "text/plain": [
       "tensor([[2],\n",
       "        [5]])"
      ]
     },
     "execution_count": 186,
     "metadata": {},
     "output_type": "execute_result"
    }
   ],
   "source": [
    "t = torch.tensor([[1,2,3],[4,5,6]])\n",
    "torch.gather(t, 1, torch.tensor([[1],[1]]))"
   ]
  },
  {
   "cell_type": "code",
   "execution_count": 175,
   "id": "acoustic-basket",
   "metadata": {},
   "outputs": [
    {
     "data": {
      "text/plain": [
       "tensor([[1, 2],\n",
       "        [3, 4]])"
      ]
     },
     "execution_count": 175,
     "metadata": {},
     "output_type": "execute_result"
    }
   ],
   "source": [
    "t"
   ]
  }
 ],
 "metadata": {
  "kernelspec": {
   "display_name": "Python 3",
   "language": "python",
   "name": "python3"
  },
  "language_info": {
   "codemirror_mode": {
    "name": "ipython",
    "version": 3
   },
   "file_extension": ".py",
   "mimetype": "text/x-python",
   "name": "python",
   "nbconvert_exporter": "python",
   "pygments_lexer": "ipython3",
   "version": "3.6.9"
  }
 },
 "nbformat": 4,
 "nbformat_minor": 5
}
